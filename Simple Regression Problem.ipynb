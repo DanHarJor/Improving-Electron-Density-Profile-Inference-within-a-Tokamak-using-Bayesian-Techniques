{
 "cells": [
  {
   "cell_type": "code",
   "execution_count": null,
   "id": "e5591926",
   "metadata": {},
   "outputs": [],
   "source": [
    "from scipy.stats import multivariate_normal as mnorm\n",
    "from scipy.stats import norm\n",
    "import matplotlib.pyplot as plt\n",
    "import numpy as np\n",
    "from numpy.linalg import inv\n",
    "import math\n",
    "from tqdm import tqdm\n",
    "from scipy.optimize import minimize, basinhopping\n",
    "import optuna"
   ]
  },
  {
   "cell_type": "markdown",
   "id": "6b3e9fd7-ed9a-4126-a742-deb84ad70660",
   "metadata": {
    "tags": []
   },
   "source": [
    "# Vanilla GRP from hao wu, with gradient info"
   ]
  },
  {
   "cell_type": "code",
   "execution_count": 96,
   "id": "d99cceb9-e7a4-4f27-95f1-880ec9992e9a",
   "metadata": {},
   "outputs": [
    {
     "name": "stdout",
     "output_type": "stream",
     "text": [
      "sigma_f = 0.97\n",
      "sigma_l = 1.81\n"
     ]
    },
    {
     "name": "stderr",
     "output_type": "stream",
     "text": [
      "/tmp/ipykernel_7535/365484130.py:133: UserWarning: Matplotlib is currently using module://matplotlib_inline.backend_inline, which is a non-GUI backend, so cannot show the figure.\n",
      "  fig.show()\n"
     ]
    },
    {
     "data": {
      "image/png": "[encoded data removed]",
      "text/plain": [
       "<Figure size 432x288 with 1 Axes>"
      ]
     },
     "metadata": {
      "needs_background": "light"
     },
     "output_type": "display_data"
    }
   ],
   "source": [
    "import numpy as np\n",
    "import logging\n",
    "from scipy.linalg import inv, cholesky, cho_solve, solve_triangular\n",
    "from scipy.optimize import minimize\n",
    "\n",
    "logger = logging.getLogger('lgi')\n",
    "\n",
    "\n",
    "class GPR(object):\n",
    "    def __init__(self, x_train, y_train, x_deriv_train=None, y_deriv_train=None,\n",
    "                 y_train_noise=None, y_deriv_train_noise=None):\n",
    "        if x_train is None or y_train is None:\n",
    "            self.x_train = np.array([])\n",
    "            self.y_train = np.array([])\n",
    "        else:\n",
    "            self.x_train = x_train\n",
    "            self.y_train = y_train\n",
    "        if x_deriv_train is None or y_deriv_train is None:\n",
    "            self.x_deriv_train = np.array([])\n",
    "            self.y_deriv_train = np.array([])\n",
    "        else:\n",
    "            self.x_deriv_train = x_deriv_train\n",
    "            self.y_deriv_train = y_deriv_train\n",
    "        self.y_train_full = np.hstack([self.y_train, self.y_deriv_train])\n",
    "        if y_train_noise is None:\n",
    "            y_train_noise = np.zeros_like(y_train)\n",
    "        if y_deriv_train_noise is None:\n",
    "            y_deriv_train_noise = np.zeros_like(y_deriv_train)\n",
    "        self.cov_d = np.diag(np.hstack((y_train_noise**2,\n",
    "                                        y_deriv_train_noise**2)))\n",
    "        self.hypers = {'sigma_f': 1.0,\n",
    "                       'sigma_l': 0.5}\n",
    "        \n",
    "    def get_cov(self):\n",
    "        \"\"\"\n",
    "        Squared exponential kernel\n",
    "        \"\"\"\n",
    "        K_n_n = self.hypers['sigma_f'] ** 2 * \\\n",
    "                np.exp(- 0.5 * (self.x_train[:, np.newaxis] - self.x_train[np.newaxis, :]) ** 2 / self.hypers['sigma_l'] ** 2)\n",
    "        K_n_p = self.hypers['sigma_f'] ** 2 / self.hypers['sigma_l'] ** 2 * \\\n",
    "                (self.x_train[:, np.newaxis] - self.x_deriv_train[np.newaxis, :]) * \\\n",
    "                np.exp(- 0.5 * (self.x_train[:, np.newaxis] - self.x_deriv_train[np.newaxis, :]) ** 2 / self.hypers['sigma_l'] ** 2)\n",
    "        K_p_n = K_n_p.T\n",
    "        K_p_p = self.hypers['sigma_f'] ** 2 / self.hypers['sigma_l'] ** 2 * \\\n",
    "                (1 - (self.x_deriv_train[:, np.newaxis] - self.x_deriv_train[np.newaxis, :]) ** 2 / self.hypers['sigma_l'] ** 2) * \\\n",
    "                np.exp(- 0.5 * (self.x_deriv_train[:, np.newaxis] - self.x_deriv_train[np.newaxis, :]) ** 2 / self.hypers['sigma_l'] ** 2)\n",
    "        K = np.block([[K_n_n, K_n_p],\n",
    "                      [K_p_n, K_p_p]]) + self.cov_d\n",
    "        K[np.diag_indices_from(K)] += 1e-8\n",
    "        return K\n",
    "\n",
    "    def get_cov_star(self, x_test):\n",
    "        K_n_t = self.hypers['sigma_f'] ** 2 * \\\n",
    "                np.exp(- 0.5 * (self.x_train[:, np.newaxis] - x_test[np.newaxis, :]) ** 2 / self.hypers['sigma_l'] ** 2)\n",
    "        K_p_t = - self.hypers['sigma_f'] ** 2 / self.hypers['sigma_l'] ** 2 * \\\n",
    "                (self.x_deriv_train[:, np.newaxis] - x_test[np.newaxis, :]) * \\\n",
    "                np.exp(- 0.5 * (self.x_deriv_train[:, np.newaxis] - x_test[np.newaxis, :]) ** 2 / self.hypers['sigma_l'] ** 2)\n",
    "        return np.block([[K_n_t], [K_p_t]])\n",
    "\n",
    "    def get_cov_star_star(self, x_test):\n",
    "        K = self.hypers['sigma_f'] ** 2 * np.exp(- 0.5 * (x_test[:, np.newaxis] - x_test[np.newaxis, :]) ** 2 / self.hypers['sigma_l'] ** 2)\n",
    "        K[np.diag_indices_from(K)] += 1e-8\n",
    "        return K\n",
    "\n",
    "    def set_hypers(self, hypers):\n",
    "        self.hypers['sigma_f'] = hypers[0]\n",
    "        self.hypers['sigma_l'] = hypers[1]\n",
    "\n",
    "    def get_loss(self, hypers):\n",
    "        self.set_hypers(hypers)\n",
    "        K = self.get_cov()\n",
    "        try:\n",
    "            L = cholesky(K, lower=True, check_finite=False)\n",
    "        except np.linalg.LinAlgError:\n",
    "            return np.inf\n",
    "        # compute the loss\n",
    "        v = solve_triangular(L, self.y_train_full, lower=True, check_finite=False)\n",
    "        loss = 2 * np.log(np.diag(L)).sum() + v.T @ v\n",
    "        logger.debug(f\"{['{:.2f}'.format(x) for x in hypers]}: {loss:.2f}\")\n",
    "        return loss\n",
    "\n",
    "    def fit(self):\n",
    "        x0 = np.array([self.hypers['sigma_f'], self.hypers['sigma_l']])\n",
    "        result = minimize(fun=self.get_loss, x0=x0)\n",
    "        hypers_opt = result.x\n",
    "        self.hypers['sigma_f'] = hypers_opt[0]\n",
    "        self.hypers['sigma_l'] = hypers_opt[1]\n",
    "        print(f\"sigma_f = {self.hypers['sigma_f']:.2f}\")\n",
    "        print(f\"sigma_l = {self.hypers['sigma_l']:.2f}\")\n",
    "\n",
    "    def predict(self, x_test):\n",
    "        K = self.get_cov()\n",
    "        try:\n",
    "            L = cholesky(K, lower=True, check_finite=False)\n",
    "        except np.linalg.LinAlgError as exc:\n",
    "            exc.args = (\n",
    "                           \"The kernel is not returning a positive \"\n",
    "                           \"definite matrix.\",\n",
    "                       ) + exc.args\n",
    "            raise\n",
    "        K_star = self.get_cov_star(x_test)\n",
    "        K_star_star = self.get_cov_star_star(x_test)\n",
    "        alpha = cho_solve((L, True), self.y_train_full, check_finite=False)\n",
    "        y_star = K_star.T @ alpha\n",
    "        v = solve_triangular(L, K_star, lower=True, check_finite=False)\n",
    "        cov_star = K_star_star - v.T @ v\n",
    "        post_mean = y_star\n",
    "        post_cov = cov_star\n",
    "        return post_mean, post_cov\n",
    "    \n",
    "if __name__ == '__main__':\n",
    "    def y_fun(x, noise_sigma=0.0):\n",
    "        x = np.asarray(x)\n",
    "        y = np.cos(x) + np.random.normal(0, noise_sigma, size=x.shape)\n",
    "        return y\n",
    "\n",
    "    x_train = np.array([1, 3, 4, 5, 9])\n",
    "    y_train = y_fun(x_train, noise_sigma=1e-4)\n",
    "    x_deriv_train = np.array([0.0, 2 * np.pi])\n",
    "    y_deriv_train = np.array([0.0, 0.0])\n",
    "    x_test = np.linspace(0, 9, 100)\n",
    "    gpr = GPR(x_train, y_train, x_deriv_train, y_deriv_train)\n",
    "    gpr.fit()\n",
    "    y_test, cov_test = gpr.predict(x_test)\n",
    "    std = np.sqrt(np.diag(cov_test))\n",
    "    y_lower = y_test - std\n",
    "    y_upper = y_test + std\n",
    "    fig = plt.figure()\n",
    "    ax = fig.add_subplot(111)\n",
    "    ax.plot(x_test, y_test, 'b-')\n",
    "    ax.fill_between(x_test, y_lower, y_upper, color='blue', alpha=0.5)\n",
    "    ax.scatter(x_train, y_train, color='red', marker='x')\n",
    "    fig.show()"
   ]
  },
  {
   "cell_type": "markdown",
   "id": "63a1d156",
   "metadata": {
    "tags": []
   },
   "source": [
    "# Simple Regression Problem"
   ]
  },
  {
   "cell_type": "code",
   "execution_count": null,
   "id": "507d07bd",
   "metadata": {},
   "outputs": [
    {
     "data": {
      "image/png": "[encoded data removed]",
      "text/plain": [
       "<Figure size 432x288 with 1 Axes>"
      ]
     },
     "metadata": {
      "needs_background": "light"
     },
     "output_type": "display_data"
    }
   ],
   "source": [
    "rng = np.random.default_rng(seed=1354)\n",
    "N = 100\n",
    "exp_er = 0.2 #10\n",
    "# def truef(x):\n",
    "#     return x**2+1\n",
    "def truef(x):\n",
    "    a,b,c,d,e,f = -1.6,1.8,-6,0,2.4,2.5\n",
    "    return -(e*(x-f)**4+d*(x-f)**3+c*(x-f)**2+b*(x-f)+a)\n",
    "x = np.linspace(0.729,4.015,N) #(1,10,10)\n",
    "y = truef(x)\n",
    "xd_indicies = [int(1*(N/100)),int(2*(N/100)),int(2.5*(N/100)),int(5*(N/100)),int(45*(N/100)),int(47*(N/100)),int(50*(N/100)),int(62*(N/100)),int(65*(N/100)),int(72*(N/100)),int(90*(N/100)),int(92*(N/100)),int(94*(N/100)),int(96*(N/100))]\n",
    "# xd_indicies = np.linspace(0,N-1,20).astype(int)\n",
    "# xd_indicies = range(N)\n",
    "xd = x[xd_indicies]\n",
    "M = len(xd)\n",
    "yd = rng.normal(loc=truef(xd),scale=exp_er)\n",
    "\n",
    "figSRP = plt.figure()\n",
    "plt.plot(x,y,'r')\n",
    "plt.plot(xd,yd,'r.')\n",
    "plt.show()\n",
    "\n",
    "prior_mean_vector = np.repeat(4,N)"
   ]
  },
  {
   "cell_type": "code",
   "execution_count": 89,
   "id": "f77c629d-663f-422f-a267-5d03fe7d3bb7",
   "metadata": {},
   "outputs": [
    {
     "data": {
      "image/png": "[encoded data removed]",
      "text/plain": [
       "<Figure size 432x288 with 1 Axes>"
      ]
     },
     "metadata": {
      "needs_background": "light"
     },
     "output_type": "display_data"
    }
   ],
   "source": [
    "#Parabilic Electron Density\n",
    "rng = np.random.default_rng(seed=1245)\n",
    "N = 100\n",
    "exp_er = 0.2 #10\n",
    "def para(x):\n",
    "    return -x**2+2\n",
    "x = np.linspace(0,1.414,N)\n",
    "y = para(x)\n",
    "# xd_indicies = [int(1*(N/100)),int(2*(N/100)),int(2.5*(N/100)),int(5*(N/100)),int(45*(N/100)),int(47*(N/100)),int(50*(N/100)),int(62*(N/100)),int(65*(N/100)),int(72*(N/100)),int(90*(N/100)),int(92*(N/100)),int(94*(N/100)),int(96*(N/100))]\n",
    "xd_indicies = np.linspace(0,N-1,5).astype(int)\n",
    "# xd_indicies = range(N)\n",
    "\n",
    "# y DATA\n",
    "xd = x[xd_indicies]\n",
    "M = len(xd)\n",
    "yd = rng.normal(loc=para(xd),scale=exp_er)\n",
    "\n",
    "#y' data\n",
    "xprime = np.linspace(0,1.414,50)\n",
    "xdprime = np.array([0])\n",
    "Mprime = len(xdprime)\n",
    "ydprime = np.array([0])\n",
    "\n",
    "figSRP = plt.figure()\n",
    "plt.plot(x,y,'r')\n",
    "plt.plot(xd,yd,'r.')\n",
    "plt.show()\n",
    "\n",
    "prior_mean_vector = np.repeat(4,N)"
   ]
  },
  {
   "cell_type": "markdown",
   "id": "a59749b4-29ba-45e5-ad99-6152926a7266",
   "metadata": {
    "tags": []
   },
   "source": [
    "# Using Hao Wu's Vanilla GPR with Gradient Information"
   ]
  },
  {
   "cell_type": "code",
   "execution_count": 92,
   "id": "6491e9dd-c7ce-4afa-b3dc-0514cc8aa569",
   "metadata": {},
   "outputs": [
    {
     "name": "stdout",
     "output_type": "stream",
     "text": [
      "sigma_f = 2.05\n",
      "sigma_l = 1.18\n"
     ]
    },
    {
     "name": "stderr",
     "output_type": "stream",
     "text": [
      "/tmp/ipykernel_7535/3493710785.py:15: UserWarning: Matplotlib is currently using module://matplotlib_inline.backend_inline, which is a non-GUI backend, so cannot show the figure.\n",
      "  fig.show()\n"
     ]
    },
    {
     "data": {
      "image/png": "[encoded data removed]",
      "text/plain": [
       "<Figure size 432x288 with 1 Axes>"
      ]
     },
     "metadata": {
      "needs_background": "light"
     },
     "output_type": "display_data"
    }
   ],
   "source": [
    "#Artificail observation of near 0 at edge and gradient 0 at core\n",
    "artificial_obsv = GPR(xd, yd, xdprime, ydprime, y_train_noise=np.repeat(exp_er, M), y_deriv_train_noise=np.array([0.1]))\n",
    "\n",
    "artificial_obsv.fit()\n",
    "y_test, cov_test = artificial_obsv.predict(x)\n",
    "std = np.sqrt(np.diag(cov_test))\n",
    "y_lower = y_test - std\n",
    "y_upper = y_test + std\n",
    "fig = plt.figure()\n",
    "ax = fig.add_subplot(111)\n",
    "ax.plot(x, y_test, 'b-')\n",
    "ax.fill_between(x, y_lower, y_upper, color='blue', alpha=0.5)\n",
    "ax.scatter(xd, yd, color='red', marker='x')\n",
    "ax.plot(x,y,'r')\n",
    "fig.show()\n"
   ]
  },
  {
   "cell_type": "markdown",
   "id": "851d9bec",
   "metadata": {
    "tags": []
   },
   "source": [
    "# Gaussian Process Regression 3\n",
    "See notes, uses bayes theorum and the prediction can have many x values. Also applicable to interferometry. "
   ]
  },
  {
   "cell_type": "code",
   "execution_count": 98,
   "id": "0cd6445e",
   "metadata": {},
   "outputs": [],
   "source": [
    "#These are necessary to avoid 0 and infinities from inv and det of large matracies\n",
    "def chol_inv(A):\n",
    "    L = np.linalg.cholesky(A)\n",
    "    return np.linalg.inv(L).T @ np.linalg.inv(L)\n",
    "def chol_det(A):\n",
    "    L = np.linalg.cholesky(A)\n",
    "    return np.prod(np.diag(L))"
   ]
  },
  {
   "cell_type": "code",
   "execution_count": 100,
   "id": "d88f4e8d",
   "metadata": {
    "scrolled": true,
    "tags": []
   },
   "outputs": [
    {
     "name": "stdout",
     "output_type": "stream",
     "text": [
      "      fun: 1.2245165165839578\n",
      " hess_inv: array([[3.3114752 , 0.63771611],\n",
      "       [0.63771611, 0.29994375]])\n",
      "      jac: array([ 1.93715096e-07, -1.80304050e-06])\n",
      "  message: 'Optimization terminated successfully.'\n",
      "     nfev: 36\n",
      "      nit: 8\n",
      "     njev: 12\n",
      "   status: 0\n",
      "  success: True\n",
      "        x: array([2.39833568, 0.93136367])\n",
      "best Marge Li 1.2245165165839578\n",
      "\n",
      "\n",
      "Not good if zero, as need to be inverted.\n",
      "\n",
      "\n",
      "K [[5.75201406 5.75133773 5.74930924 5.74593001]\n",
      " [5.75133773 5.75201406 5.75133773 5.74930924]\n",
      " [5.74930924 5.75133773 5.75201406 5.75133773]\n",
      " [5.74593001 5.74930924 5.75133773 5.75201406]]\n",
      "The Determinent of K is: 0.0\n",
      "The Determinent of cov_li is: 0.0003200000000000001\n",
      "The Determinent of cov_post3 is: 0.0\n"
     ]
    },
    {
     "data": {
      "image/png": "[encoded data removed]",
      "text/plain": [
       "<Figure size 432x288 with 1 Axes>"
      ]
     },
     "metadata": {
      "needs_background": "light"
     },
     "output_type": "display_data"
    }
   ],
   "source": [
    "##Prior\n",
    "mu_prior = prior_mean_vector\n",
    "#exponential square kernel\n",
    "def Kernel(x1,x2,params):\n",
    "    x1 = x1\n",
    "    x2 = x2\n",
    "    #amplitude determins how far the model can go from the mean\n",
    "    amp = params[0]\n",
    "    #length scale determines smoothness, how correlated the function should be at a distance\n",
    "    l = params[1]\n",
    "    return amp**2 * np.exp(-((x1-x2)*(x1-x2))/(2*l**2))\n",
    "\n",
    "def KRcov_li(params,trial_exp_er):\n",
    "    X1, X2 = np.meshgrid(x,x)\n",
    "    #covergence matrix of Prior\n",
    "    K = Kernel(X1,X2,params)\n",
    "    #add a small term onto diagonal of matricies to be inverted.\n",
    "    #this ensures it is positive definate and cholensky matrix can be computed\n",
    "    K[np.diag_indices_from(K)] += 1e-8 \n",
    "    #covergence matrix of Likelyhood\n",
    "    cov_li = np.diag(np.repeat(trial_exp_er,len(xd)))\n",
    "    #R is a matrix that can take a potential function vector f_N and only return M values corresponding to f(x_1)...f(x_M) \n",
    "    R = np.zeros((M,N))\n",
    "    for i in range(M):\n",
    "        R[i,xd_indicies[i]]=1\n",
    "    return K, R, cov_li\n",
    "\n",
    "\n",
    "def MargLi(params):\n",
    "    K, R, cov_li = KRcov_li(params,exp_er)\n",
    "    invertable = cov_li+R@K@R.T\n",
    "    #add a small term onto diagonal of matricies to be inverted.\n",
    "    #this ensures it is positive definate and cholensky matrix can be computed\n",
    "    invertable[np.diag_indices_from(invertable)] += 1e-8 \n",
    "#     try:\n",
    "#         L = np.linalg.cholesky(test_matrix)\n",
    "#     except np.linalg.LinAlgError:\n",
    "#         return 1.7e307\n",
    "    return 0.5*np.log(chol_det(cov_li + R@K@R.T)) + 0.5*(yd.T@chol_inv(cov_li+R@K@R.T)@yd)                \n",
    "    \n",
    "x0=[2.6,0.094]\n",
    "results = minimize(MargLi, x0=x0)\n",
    "# results = basinhopping(MargLi, x0=x0, niter=100)\n",
    "print(results)\n",
    "best_params = results.x\n",
    "# best_params = x0\n",
    "print('best Marge Li', MargLi(best_params))\n",
    "\n",
    "#little data\n",
    "# best_params = (7.4,0.7)\n",
    "# print('margi LI',MargLi(*best_params,exp_er))\n",
    "\n",
    "# print('best Params',best_params)\n",
    "# print('loggli',best_margli)\n",
    "\n",
    "\n",
    "def PlotBest(params,trial_exp_er): \n",
    "    K, R, cov_li = KRcov_li(params,trial_exp_er)\n",
    "    cov_post3 = chol_inv(R.T @ chol_inv(cov_li) @ R + chol_inv(K))\n",
    "    mu_post3 = mu_prior + cov_post3 @ R.T @ chol_inv(cov_li) @ (yd - R @ mu_prior)\n",
    "    error_bars3 = np.sqrt(np.diagonal(cov_post3))\n",
    "\n",
    "    print('\\n\\nNot good if zero, as need to be inverted.')\n",
    "    print('\\n\\nK',K[:4,:4])\n",
    "    print('The Determinent of K is:', np.linalg.det(K))\n",
    "    print('The Determinent of cov_li is:', np.linalg.det(cov_li))\n",
    "    print('The Determinent of cov_post3 is:', np.linalg.det(cov_post3))\n",
    "\n",
    "    figGPR3 = plt.figure()\n",
    "    plt.title('GPR3')\n",
    "    plt.plot(x,y,'r')\n",
    "    plt.plot(xd,yd,'r.')\n",
    "    plt.plot(x,mu_post3,'g')\n",
    "    \n",
    "    plt.errorbar(x, mu_post3, yerr=error_bars3)\n",
    "    plt.show()\n",
    "\n",
    "PlotBest(best_params, exp_er)\n"
   ]
  },
  {
   "cell_type": "markdown",
   "id": "e6927da2-55db-465e-a75f-ced7928ad0a9",
   "metadata": {},
   "source": [
    "# GPR 3 with gradient information, via extending the responce matrix\n",
    "The Idea is that I can simply put the gradient information on the end of the data vector. Then put the identity matrix on the end of the responce matrix."
   ]
  },
  {
   "cell_type": "code",
   "execution_count": 113,
   "id": "fbd7d1a5-cb86-4252-b83f-acfa9996541d",
   "metadata": {},
   "outputs": [
    {
     "name": "stdout",
     "output_type": "stream",
     "text": [
      "4in1\n",
      "(101, 101) (101, 1) (1, 1) (1, 101)\n"
     ]
    },
    {
     "ename": "LinAlgError",
     "evalue": "Matrix is not positive definite",
     "output_type": "error",
     "traceback": [
      "\u001b[0;31m---------------------------------------------------------------------------\u001b[0m",
      "\u001b[0;31mLinAlgError\u001b[0m                               Traceback (most recent call last)",
      "Input \u001b[0;32mIn [113]\u001b[0m, in \u001b[0;36m<cell line: 95>\u001b[0;34m()\u001b[0m\n\u001b[1;32m     92\u001b[0m     plt\u001b[38;5;241m.\u001b[39merrorbar(x, mu_post3, yerr\u001b[38;5;241m=\u001b[39merror_bars3)\n\u001b[1;32m     93\u001b[0m     plt\u001b[38;5;241m.\u001b[39mshow()\n\u001b[0;32m---> 95\u001b[0m \u001b[43mPlotBest\u001b[49m\u001b[43m(\u001b[49m\u001b[43mbest_params\u001b[49m\u001b[43m,\u001b[49m\u001b[43m \u001b[49m\u001b[43mexp_er\u001b[49m\u001b[43m)\u001b[49m\n",
      "Input \u001b[0;32mIn [113]\u001b[0m, in \u001b[0;36mPlotBest\u001b[0;34m(params, trial_exp_er)\u001b[0m\n\u001b[1;32m     74\u001b[0m \u001b[38;5;28;01mdef\u001b[39;00m \u001b[38;5;21mPlotBest\u001b[39m(params,trial_exp_er): \n\u001b[1;32m     75\u001b[0m     K, R, cov_li \u001b[38;5;241m=\u001b[39m KRcov_li(params,trial_exp_er)\n\u001b[0;32m---> 76\u001b[0m     cov_post3 \u001b[38;5;241m=\u001b[39m chol_inv(R\u001b[38;5;241m.\u001b[39mT \u001b[38;5;241m@\u001b[39m chol_inv(cov_li) \u001b[38;5;241m@\u001b[39m R \u001b[38;5;241m+\u001b[39m \u001b[43mchol_inv\u001b[49m\u001b[43m(\u001b[49m\u001b[43mK\u001b[49m\u001b[43m)\u001b[49m)\n\u001b[1;32m     77\u001b[0m     mu_post3 \u001b[38;5;241m=\u001b[39m mu_prior \u001b[38;5;241m+\u001b[39m cov_post3 \u001b[38;5;241m@\u001b[39m R\u001b[38;5;241m.\u001b[39mT \u001b[38;5;241m@\u001b[39m chol_inv(cov_li) \u001b[38;5;241m@\u001b[39m (yd \u001b[38;5;241m-\u001b[39m R \u001b[38;5;241m@\u001b[39m mu_prior)\n\u001b[1;32m     78\u001b[0m     error_bars3 \u001b[38;5;241m=\u001b[39m np\u001b[38;5;241m.\u001b[39msqrt(np\u001b[38;5;241m.\u001b[39mdiagonal(cov_post3))\n",
      "Input \u001b[0;32mIn [98]\u001b[0m, in \u001b[0;36mchol_inv\u001b[0;34m(A)\u001b[0m\n\u001b[1;32m      2\u001b[0m \u001b[38;5;28;01mdef\u001b[39;00m \u001b[38;5;21mchol_inv\u001b[39m(A):\n\u001b[0;32m----> 3\u001b[0m     L \u001b[38;5;241m=\u001b[39m \u001b[43mnp\u001b[49m\u001b[38;5;241;43m.\u001b[39;49m\u001b[43mlinalg\u001b[49m\u001b[38;5;241;43m.\u001b[39;49m\u001b[43mcholesky\u001b[49m\u001b[43m(\u001b[49m\u001b[43mA\u001b[49m\u001b[43m)\u001b[49m\n\u001b[1;32m      4\u001b[0m     \u001b[38;5;28;01mreturn\u001b[39;00m np\u001b[38;5;241m.\u001b[39mlinalg\u001b[38;5;241m.\u001b[39minv(L)\u001b[38;5;241m.\u001b[39mT \u001b[38;5;241m@\u001b[39m np\u001b[38;5;241m.\u001b[39mlinalg\u001b[38;5;241m.\u001b[39minv(L)\n",
      "File \u001b[0;32m<__array_function__ internals>:5\u001b[0m, in \u001b[0;36mcholesky\u001b[0;34m(*args, **kwargs)\u001b[0m\n",
      "File \u001b[0;32m~/anaconda3/lib/python3.9/site-packages/numpy/linalg/linalg.py:763\u001b[0m, in \u001b[0;36mcholesky\u001b[0;34m(a)\u001b[0m\n\u001b[1;32m    761\u001b[0m t, result_t \u001b[38;5;241m=\u001b[39m _commonType(a)\n\u001b[1;32m    762\u001b[0m signature \u001b[38;5;241m=\u001b[39m \u001b[38;5;124m'\u001b[39m\u001b[38;5;124mD->D\u001b[39m\u001b[38;5;124m'\u001b[39m \u001b[38;5;28;01mif\u001b[39;00m isComplexType(t) \u001b[38;5;28;01melse\u001b[39;00m \u001b[38;5;124m'\u001b[39m\u001b[38;5;124md->d\u001b[39m\u001b[38;5;124m'\u001b[39m\n\u001b[0;32m--> 763\u001b[0m r \u001b[38;5;241m=\u001b[39m \u001b[43mgufunc\u001b[49m\u001b[43m(\u001b[49m\u001b[43ma\u001b[49m\u001b[43m,\u001b[49m\u001b[43m \u001b[49m\u001b[43msignature\u001b[49m\u001b[38;5;241;43m=\u001b[39;49m\u001b[43msignature\u001b[49m\u001b[43m,\u001b[49m\u001b[43m \u001b[49m\u001b[43mextobj\u001b[49m\u001b[38;5;241;43m=\u001b[39;49m\u001b[43mextobj\u001b[49m\u001b[43m)\u001b[49m\n\u001b[1;32m    764\u001b[0m \u001b[38;5;28;01mreturn\u001b[39;00m wrap(r\u001b[38;5;241m.\u001b[39mastype(result_t, copy\u001b[38;5;241m=\u001b[39m\u001b[38;5;28;01mFalse\u001b[39;00m))\n",
      "File \u001b[0;32m~/anaconda3/lib/python3.9/site-packages/numpy/linalg/linalg.py:91\u001b[0m, in \u001b[0;36m_raise_linalgerror_nonposdef\u001b[0;34m(err, flag)\u001b[0m\n\u001b[1;32m     90\u001b[0m \u001b[38;5;28;01mdef\u001b[39;00m \u001b[38;5;21m_raise_linalgerror_nonposdef\u001b[39m(err, flag):\n\u001b[0;32m---> 91\u001b[0m     \u001b[38;5;28;01mraise\u001b[39;00m LinAlgError(\u001b[38;5;124m\"\u001b[39m\u001b[38;5;124mMatrix is not positive definite\u001b[39m\u001b[38;5;124m\"\u001b[39m)\n",
      "\u001b[0;31mLinAlgError\u001b[0m: Matrix is not positive definite"
     ]
    }
   ],
   "source": [
    "#adding the artificial observations, density at edge and gradient at core\n",
    "yd = np.concatenate((yd,np.array([0,0])))\n",
    "\n",
    "##Prior\n",
    "mu_prior = np.concatenate((prior_mean_vector,np.zeros(2)))\n",
    "#exponential square kernel\n",
    "def Kernel(x,params):\n",
    "    def FourIn1(A,B,C,D):\n",
    "        #starts top left and gloes clockwise, A B C D\n",
    "        print('4in1')\n",
    "        print(A.shape,B.shape,C.shape,D.shape)\n",
    "        one = np.concatenate((A,B),axis=1)\n",
    "        two = np.concatenate((D,C),axis=1)\n",
    "        return np.concatenate((one,two),axis = 0)\n",
    "\n",
    "    x = np.concatenate((x,np.ones(1)))\n",
    "    X1, X2 = np.meshgrid(x,x)\n",
    "    #amplitude determins how far the model can go from the mean\n",
    "    amp = params[0]\n",
    "    #length scale determines smoothness, how correlated the function should be at a distance\n",
    "    l = params[1]\n",
    "    K = amp**2 * np.exp(-((X1-X2)*(X1-X2))/(2*l**2))\n",
    "    Kprpr = np.array([[-amp/l**2]]) #only for specific case where grad info is at x=0\n",
    "    KprOne = np.array([[amp*np.exp(1/2*l**2)* -1/l**2]])\n",
    "    Kpr = np.array([amp*np.exp(-x**2/2*l**2) * -1/l**2 * (-x)])\n",
    "    K_full = FourIn1(K,Kpr.T,Kprpr,-Kpr)\n",
    "    return K_full\n",
    "\n",
    "def KRcov_li(params,trial_exp_er):\n",
    "    #covergence matrix of Prior\n",
    "    K = Kernel(x,params)\n",
    "    #add a small term onto diagonal of matricies to be inverted.\n",
    "    #this ensures it is positive definate and cholensky matrix can be computed\n",
    "    K[np.diag_indices_from(K)] += 1e-8\n",
    "    #covergence matrix of Likelyhood\n",
    "    cov_li = np.diag(np.concatenate((np.repeat(trial_exp_er,len(xd)),np.array([0.001,0.001]))))\n",
    "    #R is a matrix that can take a potential function vector f_N and only return M values corresponding to f(x_1)...f(x_M) \n",
    "    R = np.zeros((M+2,N+2))\n",
    "    for i in range(M):\n",
    "        R[i,xd_indicies[i]]=1\n",
    "    #added for new artificial observations\n",
    "    R[-1,-1]=1\n",
    "    R[-2,-2]=1\n",
    "    return K, R, cov_li\n",
    "\n",
    "def MargLi(params):\n",
    "    K, R, cov_li = KRcov_li(params,exp_er)\n",
    "    invertable = cov_li+R@K@R.T\n",
    "    #add a small term onto diagonal of matricies to be inverted.\n",
    "    #this ensures it is positive definate and cholensky matrix can be computed\n",
    "    invertable[np.diag_indices_from(invertable)] += 1e-8 \n",
    "#     try:\n",
    "#         L = np.linalg.cholesky(test_matrix)\n",
    "#     except np.linalg.LinAlgError:\n",
    "#         return 1.7e307\n",
    "    \n",
    "    return 0.5*np.log(chol_det(invertable)) + 0.5*(yd.T@chol_inv(invertable)@yd)                \n",
    "    \n",
    "x0=[2.6,0.094]\n",
    "# results = minimize(MargLi, x0=x0)\n",
    "# results = basinhopping(MargLi, x0=x0, niter=100)\n",
    "# print(results)\n",
    "# best_params = results.x\n",
    "best_params = x0\n",
    "# print('best Marge Li', MargLi(best_params))\n",
    "\n",
    "#little data\n",
    "# best_params = (7.4,0.7)\n",
    "# print('margi LI',MargLi(*best_params,exp_er))\n",
    "\n",
    "# print('best Params',best_params)\n",
    "# print('loggli',best_margli)\n",
    "\n",
    "def PlotBest(params,trial_exp_er): \n",
    "    K, R, cov_li = KRcov_li(params,trial_exp_er)\n",
    "    cov_post3 = chol_inv(R.T @ chol_inv(cov_li) @ R + chol_inv(K))\n",
    "    mu_post3 = mu_prior + cov_post3 @ R.T @ chol_inv(cov_li) @ (yd - R @ mu_prior)\n",
    "    error_bars3 = np.sqrt(np.diagonal(cov_post3))\n",
    "\n",
    "    print('\\n\\nNot good if zero, as need to be inverted.')\n",
    "    print('\\n\\nK',K[:4,:4])\n",
    "    print('The Determinent of K is:', np.linalg.det(K))\n",
    "    print('The Determinent of cov_li is:', np.linalg.det(cov_li))\n",
    "    print('The Determinent of cov_post3 is:', np.linalg.det(cov_post3))\n",
    "\n",
    "    figGPR3 = plt.figure()\n",
    "    plt.title('GPR3')\n",
    "    plt.plot(x,y,'r')\n",
    "    plt.plot(xd,yd,'r.')\n",
    "    plt.plot(x,mu_post3,'g')\n",
    "    \n",
    "    plt.errorbar(x, mu_post3, yerr=error_bars3)\n",
    "    plt.show()\n",
    "\n",
    "PlotBest(best_params, exp_er)"
   ]
  },
  {
   "cell_type": "markdown",
   "id": "41f9b2b3-f9d5-47d1-9c31-60e568446d4b",
   "metadata": {
    "jp-MarkdownHeadingCollapsed": true,
    "tags": []
   },
   "source": [
    "# Optuna Optimization"
   ]
  },
  {
   "cell_type": "code",
   "execution_count": null,
   "id": "936ffc1e",
   "metadata": {},
   "outputs": [],
   "source": [
    "import optuna\n",
    "\n",
    "def objective(trial):\n",
    "    amp = trial.suggest_float('amp', 0, 20)\n",
    "    l = trial.suggest_float('l', 0, 4)\n",
    "    params = [amp,l]\n",
    "    return MargLi(params)\n",
    "    \n",
    "study = optuna.create_study(direction='minimize')\n",
    "study.optimize(objective, n_trials=500)\n",
    "\n",
    "study.best_params"
   ]
  },
  {
   "cell_type": "code",
   "execution_count": 79,
   "id": "2be35013",
   "metadata": {},
   "outputs": [
    {
     "data": {
      "text/plain": [
       "      fun: 4.71578696020939\n",
       " hess_inv: array([[1.60813141e-05, 1.44127841e-06],\n",
       "       [1.44127841e-06, 1.29320615e-07]])\n",
       "      jac: array([1.75833702e-05, 4.41074371e-06])\n",
       "  message: 'Desired error not necessarily achieved due to precision loss.'\n",
       "     nfev: 222\n",
       "      nit: 17\n",
       "     njev: 70\n",
       "   status: 2\n",
       "  success: False\n",
       "        x: array([7.35781514, 0.73227267])"
      ]
     },
     "execution_count": 79,
     "metadata": {},
     "output_type": "execute_result"
    }
   ],
   "source": [
    "results"
   ]
  },
  {
   "cell_type": "markdown",
   "id": "6df1a8af",
   "metadata": {},
   "source": [
    "# Gaussian Processes 1\n",
    "\n",
    "This way assumes the data and predictions come from a large multivariate distribution and then uses conditional theorums to find the posterior."
   ]
  },
  {
   "cell_type": "code",
   "execution_count": 88,
   "id": "93c40e8a",
   "metadata": {},
   "outputs": [
    {
     "name": "stdout",
     "output_type": "stream",
     "text": [
      "\n",
      "\n",
      "RESULTS       fun: 1.2245165165837233\n",
      " hess_inv: array([[3.1624584 , 0.57994786],\n",
      "       [0.57994786, 0.29978072]])\n",
      "      jac: array([2.23517418e-07, 5.96046448e-08])\n",
      "  message: 'Optimization terminated successfully.'\n",
      "     nfev: 48\n",
      "      nit: 11\n",
      "     njev: 16\n",
      "   status: 0\n",
      "  success: True\n",
      "        x: array([2.39833649, 0.93136419])\n",
      "Probably not good if 0. cov_D definetly cannot be 0 as it is inverted.\n"
     ]
    },
    {
     "data": {
      "image/png": "[encoded data removed]",
      "text/plain": [
       "<Figure size 432x288 with 1 Axes>"
      ]
     },
     "metadata": {
      "needs_background": "light"
     },
     "output_type": "display_data"
    }
   ],
   "source": [
    "#KERNEL: exponential square kernel\n",
    "def Kernel(x1,x2,params):\n",
    "    amp = params[0]\n",
    "    'How far should be between x1 and x2 for f(x1) to be uncorrelated with f(x2)'\n",
    "    l = params[1]\n",
    "    return amp**2 * np.exp(-((x1-x2)*(x1-x2))/(2*l**2))\n",
    "\n",
    "\n",
    "\n",
    "X1, X2 = np.meshgrid(xd,xd)\n",
    "X1st, X2st = np.meshgrid(x,x)\n",
    "X1st2, X22 = np.meshgrid(x,xd)\n",
    "\n",
    "\n",
    "#optimising kernel paramaters via marginal likelyhood\n",
    "def MargLi(params):\n",
    "    K, R, cov_li = KRcov_li(params,exp_er)\n",
    "    invertable = cov_li+R@K@R.T\n",
    "    #add a small term onto diagonal of matricies to be inverted.\n",
    "    #this ensures it is positive definate and cholensky matrix can be computed\n",
    "    invertable[np.diag_indices_from(invertable)] += 1e-8 \n",
    "    return 0.5*np.log(chol_det(cov_li + R@K@R.T)) + 0.5*(yd.T@chol_inv(cov_li+R@K@R.T)@yd)                \n",
    "\n",
    "x0=[3.15,0.096]\n",
    "results = minimize(MargLi, x0=x0)\n",
    "# results = basinhopping(MargLi, x0=x0, niter=200)\n",
    "print('\\n\\nRESULTS',results)\n",
    "best_params = results.x\n",
    "# best_params = x0\n",
    "\n",
    "# print('\\n\\nMargLi',MargLi(best_params))\n",
    "\n",
    "K = Kernel(X1,X2,best_params)\n",
    "#add a small term onto diagonal of matricies to be inverted.\n",
    "#this ensures it is positive definate and cholensky matrix can be computed\n",
    "K[np.diag_indices_from(K)] += 1e-8 \n",
    "\n",
    "Kstst = Kernel(X1st, X2st,best_params)\n",
    "Kst = Kernel(X22, X1st2,best_params)\n",
    "##Data Dist, has prior in it\n",
    "mu_D = prior_mean_vector\n",
    "cov_D = K + np.diag(np.repeat(exp_er,len(xd)))\n",
    "\n",
    "\n",
    "print('Probably not good if 0. cov_D definetly cannot be 0 as it is inverted.')\n",
    "# print('The Determinent of K is:', chol_det(K))\n",
    "# print('The Determinent of Kst is:', chol_det(Kst))\n",
    "# print('The Determinent of Kstst is:', chol_det(Kstst))\n",
    "# print('The Determinent of cov_D is:', chol_det(cov_D))\n",
    "##Predictions dist\n",
    "mu_yst = np.repeat(0,N)\n",
    "cov_yst = Kstst\n",
    "\n",
    "\n",
    "\n",
    "cov_post1 = Kstst - Kst.T @ chol_inv(cov_D) @ Kst\n",
    "mu_post1 = Kst.T @ chol_inv(cov_D) @ yd\n",
    "error_bars1 = np.sqrt(np.diagonal(cov_post1))\n",
    "\n",
    "\n",
    "figGPR1 = plt.figure()\n",
    "plt.title('GPR1')\n",
    "plt.plot(x,y,'r')\n",
    "plt.plot(xd,yd,'r.')\n",
    "plt.plot(x,mu_post1,'g')\n",
    "plt.errorbar(x, mu_post1, yerr=error_bars1)\n",
    "plt.show()"
   ]
  },
  {
   "cell_type": "markdown",
   "id": "b8b625f6-04ff-4022-8bee-8bff8a8d585a",
   "metadata": {
    "jp-MarkdownHeadingCollapsed": true,
    "tags": []
   },
   "source": [
    "# Gaussian Process 1 Including Gradient Information From Cholskey Method\n",
    "\n",
    "should be equilivant to hao wu's method but my version gets numerical errors"
   ]
  },
  {
   "cell_type": "code",
   "execution_count": 103,
   "id": "801a7b12-65ab-4516-a6ae-68f004fc51f1",
   "metadata": {},
   "outputs": [
    {
     "name": "stdout",
     "output_type": "stream",
     "text": [
      "(50, 5) (50, 5)\n",
      "4in1\n",
      "(50, 50) (50, 100) (100, 100) (100, 50)\n",
      "4in1\n",
      "(50, 1) (50, 5) (100, 5) (100, 1)\n",
      "4in1\n",
      "(1, 1) (1, 5) (5, 5) (5, 1)\n",
      "Probably not good if 0. cov_D definetly cannot be 0 as it is inverted.\n"
     ]
    },
    {
     "ename": "LinAlgError",
     "evalue": "Matrix is not positive definite",
     "output_type": "error",
     "traceback": [
      "\u001b[0;31m---------------------------------------------------------------------------\u001b[0m",
      "\u001b[0;31mLinAlgError\u001b[0m                               Traceback (most recent call last)",
      "Input \u001b[0;32mIn [103]\u001b[0m, in \u001b[0;36m<cell line: 112>\u001b[0;34m()\u001b[0m\n\u001b[1;32m    107\u001b[0m mu_yst \u001b[38;5;241m=\u001b[39m np\u001b[38;5;241m.\u001b[39mrepeat(\u001b[38;5;241m0\u001b[39m,N)\n\u001b[1;32m    108\u001b[0m cov_yst \u001b[38;5;241m=\u001b[39m Kstst\n\u001b[0;32m--> 112\u001b[0m cov_post \u001b[38;5;241m=\u001b[39m Kboxstst \u001b[38;5;241m-\u001b[39m Kboxst\u001b[38;5;241m.\u001b[39mT \u001b[38;5;241m@\u001b[39m \u001b[43mchol_inv\u001b[49m\u001b[43m(\u001b[49m\u001b[43mcov_D\u001b[49m\u001b[43m)\u001b[49m \u001b[38;5;241m@\u001b[39m Kboxst\n\u001b[1;32m    113\u001b[0m mu_post \u001b[38;5;241m=\u001b[39m Kboxst\u001b[38;5;241m.\u001b[39mT \u001b[38;5;241m@\u001b[39m chol_inv(cov_D) \u001b[38;5;241m@\u001b[39m np\u001b[38;5;241m.\u001b[39mcontatenate((ydprime,yd))\n\u001b[1;32m    115\u001b[0m error_bars \u001b[38;5;241m=\u001b[39m np\u001b[38;5;241m.\u001b[39mdiagonal(cov_post)\n",
      "Input \u001b[0;32mIn [98]\u001b[0m, in \u001b[0;36mchol_inv\u001b[0;34m(A)\u001b[0m\n\u001b[1;32m      2\u001b[0m \u001b[38;5;28;01mdef\u001b[39;00m \u001b[38;5;21mchol_inv\u001b[39m(A):\n\u001b[0;32m----> 3\u001b[0m     L \u001b[38;5;241m=\u001b[39m \u001b[43mnp\u001b[49m\u001b[38;5;241;43m.\u001b[39;49m\u001b[43mlinalg\u001b[49m\u001b[38;5;241;43m.\u001b[39;49m\u001b[43mcholesky\u001b[49m\u001b[43m(\u001b[49m\u001b[43mA\u001b[49m\u001b[43m)\u001b[49m\n\u001b[1;32m      4\u001b[0m     \u001b[38;5;28;01mreturn\u001b[39;00m np\u001b[38;5;241m.\u001b[39mlinalg\u001b[38;5;241m.\u001b[39minv(L)\u001b[38;5;241m.\u001b[39mT \u001b[38;5;241m@\u001b[39m np\u001b[38;5;241m.\u001b[39mlinalg\u001b[38;5;241m.\u001b[39minv(L)\n",
      "File \u001b[0;32m<__array_function__ internals>:5\u001b[0m, in \u001b[0;36mcholesky\u001b[0;34m(*args, **kwargs)\u001b[0m\n",
      "File \u001b[0;32m~/anaconda3/lib/python3.9/site-packages/numpy/linalg/linalg.py:763\u001b[0m, in \u001b[0;36mcholesky\u001b[0;34m(a)\u001b[0m\n\u001b[1;32m    761\u001b[0m t, result_t \u001b[38;5;241m=\u001b[39m _commonType(a)\n\u001b[1;32m    762\u001b[0m signature \u001b[38;5;241m=\u001b[39m \u001b[38;5;124m'\u001b[39m\u001b[38;5;124mD->D\u001b[39m\u001b[38;5;124m'\u001b[39m \u001b[38;5;28;01mif\u001b[39;00m isComplexType(t) \u001b[38;5;28;01melse\u001b[39;00m \u001b[38;5;124m'\u001b[39m\u001b[38;5;124md->d\u001b[39m\u001b[38;5;124m'\u001b[39m\n\u001b[0;32m--> 763\u001b[0m r \u001b[38;5;241m=\u001b[39m \u001b[43mgufunc\u001b[49m\u001b[43m(\u001b[49m\u001b[43ma\u001b[49m\u001b[43m,\u001b[49m\u001b[43m \u001b[49m\u001b[43msignature\u001b[49m\u001b[38;5;241;43m=\u001b[39;49m\u001b[43msignature\u001b[49m\u001b[43m,\u001b[49m\u001b[43m \u001b[49m\u001b[43mextobj\u001b[49m\u001b[38;5;241;43m=\u001b[39;49m\u001b[43mextobj\u001b[49m\u001b[43m)\u001b[49m\n\u001b[1;32m    764\u001b[0m \u001b[38;5;28;01mreturn\u001b[39;00m wrap(r\u001b[38;5;241m.\u001b[39mastype(result_t, copy\u001b[38;5;241m=\u001b[39m\u001b[38;5;28;01mFalse\u001b[39;00m))\n",
      "File \u001b[0;32m~/anaconda3/lib/python3.9/site-packages/numpy/linalg/linalg.py:91\u001b[0m, in \u001b[0;36m_raise_linalgerror_nonposdef\u001b[0;34m(err, flag)\u001b[0m\n\u001b[1;32m     90\u001b[0m \u001b[38;5;28;01mdef\u001b[39;00m \u001b[38;5;21m_raise_linalgerror_nonposdef\u001b[39m(err, flag):\n\u001b[0;32m---> 91\u001b[0m     \u001b[38;5;28;01mraise\u001b[39;00m LinAlgError(\u001b[38;5;124m\"\u001b[39m\u001b[38;5;124mMatrix is not positive definite\u001b[39m\u001b[38;5;124m\"\u001b[39m)\n",
      "\u001b[0;31mLinAlgError\u001b[0m: Matrix is not positive definite"
     ]
    }
   ],
   "source": [
    "#KERNEL: exponential square kernel\n",
    "def Kernel(x1,x2,params):\n",
    "    amp = params[0]\n",
    "    'How far should be between x1 and x2 for f(x1) to be uncorrelated with f(x2)'\n",
    "    l = params[1]\n",
    "    return amp**2 * np.exp(-((x1-x2)*(x1-x2))/(2*l**2))\n",
    "\n",
    "def KernelPrime(x1,x2,params):\n",
    "    amp = params[0]\n",
    "    'How far should be between x1 and x2 for f(x1) to be uncorrelated with f(x2)'\n",
    "    l = params[1]\n",
    "    return Kernel(x1,x2,params) * 1/l**2 * x1-x2\n",
    "\n",
    "    \n",
    "def KernelPrimePrime(x1,x2,params):\n",
    "    amp = params[0]\n",
    "    'How far should be between x1 and x2 for f(x1) to be uncorrelated with f(x2)'\n",
    "    l = params[1]\n",
    "    return KernelPrime(x1,x2,params) * (x1-x2)/l**2 - 1/l**2 * amp * Kernel(x1, x2, params)\n",
    "\n",
    "#K box **, top left, top right, bottom right\n",
    "Xprprstst1, Xprprstst2 = np.meshgrid(xprime, xprime)\n",
    "Xprststj1, Xprststj2 = np.meshgrid(x, xprime)\n",
    "Xstst1, Xstst2 = np.meshgrid(x,x)\n",
    "Xprststi1, Xprststi2 = np.meshgrid(xprime, x)\n",
    "\n",
    "#K box *\n",
    "Xprprst1, Xprprst2 = np.meshgrid(xdprime,xprime)\n",
    "Xprstj1, Xprstj2 = np.meshgrid(xd,xprime)\n",
    "Xst1, Xst2 = np.meshgrid(xd,x)\n",
    "Xprsti1, Xprsti2 = np.meshgrid(xdprime,x)\n",
    "print(Xprstj1.shape, Xprstj2.shape)\n",
    "\n",
    "# K box\n",
    "Xprpr1, Xprpr2 = np.meshgrid(xdprime, xdprime)\n",
    "Xprj1, Xprj2 = np.meshgrid(xd, xdprime)\n",
    "X1, X2 = X1, X2 = np.meshgrid(xd,xd)\n",
    "Xpri1, Xpri2 = np.meshgrid(xdprime, xd)\n",
    "\n",
    "\n",
    "# X1, X2 = np.meshgrid(xd,xd)\n",
    "# Xstst1, Xstst2 = np.meshgrid(x,x)\n",
    "# Xst1, Xst2 = np.meshgrid(x,xd)\n",
    "\n",
    "#optimising kernel paramaters via marginal likelyhood\n",
    "# def MargLi(params):\n",
    "#     K, R, cov_li = KRcov_li(params,exp_er)\n",
    "#     invertable = cov_li+R@K@R.T\n",
    "#     #add a small term onto diagonal of matricies to be inverted.\n",
    "#     #this ensures it is positive definate and cholensky matrix can be computed\n",
    "#     invertable[np.diag_indices_from(invertable)] += 1e-8 \n",
    "#     return 0.5*np.log(chol_det(cov_li + R@K@R.T)) + 0.5*(yd.T@chol_inv(cov_li+R@K@R.T)@yd)                \n",
    "\n",
    "x0=[3.15,0.096]\n",
    "# results = minimize(MargLi, x0=x0)\n",
    "# results = basinhopping(MargLi, x0=x0, niter=200)\n",
    "# print('\\n\\nRESULTS',results)\n",
    "# best_params = results.x\n",
    "best_params = x0\n",
    "\n",
    "# print('\\n\\nMargLi',MargLi(best_params))\n",
    "\n",
    "#clockwise starting from top left\n",
    "Kboxstst1 = KernelPrimePrime(Xprprstst1,Xprprstst2,best_params)\n",
    "Kboxstst2 = KernelPrime(Xprststj1,Xprststj2,best_params)\n",
    "Kboxstst3 = Kernel(Xstst1,Xstst2,best_params)\n",
    "Kboxstst4 = KernelPrime(Xprststi1,Xprststi2,best_params)\n",
    "\n",
    "Kboxst1 = KernelPrimePrime(Xprprst1,Xprprst2,best_params)\n",
    "Kboxst2 = KernelPrime(Xprstj1,Xprstj2,best_params)\n",
    "Kboxst3 = Kernel(Xst1,Xst2,best_params)\n",
    "Kboxst4 = KernelPrime(Xprsti1,Xprsti2,best_params)\n",
    "\n",
    "Kbox1 = KernelPrimePrime(Xprpr1,Xprpr2,best_params)\n",
    "Kbox2 = KernelPrime(Xprj1,Xprj2,best_params)\n",
    "Kbox3 = Kernel(X1,X2,best_params)\n",
    "Kbox4 = KernelPrime(Xpri1,Xpri2,best_params)\n",
    "\n",
    "def FourIn1(A,B,C,D):\n",
    "    #starts top left and gloes clockwise, A B C D\n",
    "    print('4in1')\n",
    "    print(A.shape,B.shape,C.shape,D.shape)\n",
    "    one = np.concatenate((A,B),axis=1)\n",
    "    two = np.concatenate((D,C),axis=1)\n",
    "    return np.concatenate((one,two),axis = 0)\n",
    "\n",
    "Kboxstst = FourIn1(Kboxstst1,Kboxstst2,Kboxstst3,Kboxstst4)\n",
    "Kboxst = FourIn1(Kboxst1,Kboxst2,Kboxst3,Kboxst4)\n",
    "Kbox = FourIn1(Kbox1,Kbox2,Kbox3,Kbox4)\n",
    "\n",
    "#add a small term onto diagonal of matricies to be inverted.\n",
    "#this ensures it is positive definate and cholensky matrix can be computed\n",
    "Kbox[np.diag_indices_from(Kbox)] += 1e-8 \n",
    "\n",
    "##Data Dist, has prior in it\n",
    "mu_D = np.array([0 for i in range(M+Mprime)])#prior_mean_vector \n",
    "exp_er_prime = 0.0001\n",
    "cov_D = Kbox + np.diag(np.concatenate((np.repeat(exp_er,M), np.repeat(exp_er_prime,Mprime))))\n",
    "cov_D[np.diag_indices_from(cov_D)] += 1e-8 \n",
    "\n",
    "print('Probably not good if 0. cov_D definetly cannot be 0 as it is inverted.')\n",
    "# print('The Determinent of K is:', chol_det(K))\n",
    "# print('The Determinent of Kst is:', chol_det(Kst))\n",
    "# print('The Determinent of Kstst is:', chol_det(Kstst))\n",
    "# print('The Determinent of cov_D is:', chol_det(cov_D))\n",
    "##Predictions dist\n",
    "mu_yst = np.repeat(0,N)\n",
    "cov_yst = Kstst\n",
    "\n",
    "\n",
    "\n",
    "cov_post = Kboxstst - Kboxst.T @ chol_inv(cov_D) @ Kboxst\n",
    "mu_post = Kboxst.T @ chol_inv(cov_D) @ np.contatenate((ydprime,yd))\n",
    "\n",
    "error_bars = np.diagonal(cov_post)\n",
    "\n",
    "mu_post_yst = mu_post[Mprime:]\n",
    "error_bars_yst = np.diagonal(cov_post)[Mprime:]\n",
    "\n",
    "\n",
    "figGPR1 = plt.figure()\n",
    "plt.title('GPR1')\n",
    "plt.plot(x,y,'r')\n",
    "plt.plot(xd,yd,'r.')\n",
    "plt.plot(x,mu_post_yst,'g')\n",
    "plt.errorbar(x, mu_post_yst, yerr=error_bars_yst)\n",
    "plt.show()"
   ]
  },
  {
   "cell_type": "code",
   "execution_count": null,
   "id": "2b9f9cb0",
   "metadata": {},
   "outputs": [],
   "source": [
    "import optuna\n",
    "\n",
    "def objective(trial):\n",
    "    amp = trial.suggest_float('amp', 0, 22)\n",
    "    l = trial.suggest_float('l', 0, 4)\n",
    "    params = [amp,l]\n",
    "    return MargLi(params)\n",
    "    \n",
    "study = optuna.create_study(direction='minimize')\n",
    "study.optimize(objective, n_trials=500)\n",
    "\n",
    "study.best_params"
   ]
  },
  {
   "cell_type": "markdown",
   "id": "8bbd677f",
   "metadata": {},
   "source": [
    "## Before Kernel Optimisation\n",
    "\n",
    "The performance is highly unstable. The errors vary from wildly large to extreamly tiny. The mean vector can look like gaussian noise or closely matching the profile. Also if the space between data points to too small the kernel covariance matric seems to have a determinent of 0 and thus no inverse. Some kernel parameters also cause this to hapen. It can happen in the other matracies aswell. This can cause errors in the code if the matrix is to be inveresed. It also causes the error bars to swing from almost infinity to almost 0. \n",
    "\n",
    "## After Kernel Optimisation\n",
    "\n",
    "GP1 works extreamly well after kernel optimisation. Knowing exactly how the kernel parameters influence the graph can help dramatically for selecting a prior with optuna, or initial guesses for scipy.optimise(). The amp, sets how easy it is for the posterior mean to get far from the prior mean. The higher this is the weaker the prior is. The length scale l, sets how correlated two points are. For two points with one specific x distance apart, they are said to be more correlated is l is large and less correlated if l is small. We use how correlated they are in x as exactly how correlated they are in y.  "
   ]
  },
  {
   "cell_type": "markdown",
   "id": "bd3342eb",
   "metadata": {
    "jp-MarkdownHeadingCollapsed": true,
    "tags": []
   },
   "source": [
    "# Gaussian Process Regression 2\n",
    "See notes, uses bayes theorum but must have the same x position for data and predictions. \n",
    "\n",
    "# Ignore this one for now"
   ]
  },
  {
   "cell_type": "code",
   "execution_count": 90,
   "id": "f38c86fc",
   "metadata": {},
   "outputs": [
    {
     "name": "stdout",
     "output_type": "stream",
     "text": [
      "(14,)\n"
     ]
    },
    {
     "data": {
      "image/png": "[encoded data removed]",
      "text/plain": [
       "<Figure size 432x288 with 1 Axes>"
      ]
     },
     "metadata": {
      "needs_background": "light"
     },
     "output_type": "display_data"
    }
   ],
   "source": [
    "#exponential square kernel\n",
    "def kernel(x1,x2):\n",
    "    a = 10\n",
    "    b = 10\n",
    "    return a * np.exp(-((x1-x2)*(x1-x2))/b)\n",
    "X1, X2 = np.meshgrid(xd,xd)\n",
    "prior_cov = kernel(X1,X2) #np.diag(np.repeat(exp_er,len(x)))#\n",
    "likelyhood_cov = np.diag(np.repeat(exp_er,len(xd)))\n",
    "#Now we make the gaussian process distribution for the likelyhood\n",
    "likelyhood = mnorm(mean=yd, cov=likelyhood_cov)\n",
    "prior = mnorm(mean=np.repeat(0,len(xd)),cov=prior_cov, allow_singular=True)\n",
    "\n",
    "#posterior_mean = inv(inv(prior_cov)+inv(likelyhood_cov)) @ (inv(prior_cov)@likelyhood.mean+inv(likelyhood_cov)@prior.mean)\n",
    "posterior_mean = prior_cov @ inv(prior_cov + likelyhood_cov) @ likelyhood.mean  +  likelyhood_cov @ inv(prior_cov + likelyhood_cov) @ prior.mean\n",
    "posterior_cov = prior_cov @ inv(prior_cov + likelyhood_cov) @ likelyhood_cov\n",
    "error_bars2 = np.diagonal(posterior_cov)\n",
    "\n",
    "print(np.shape(posterior_mean))\n",
    "figGPR2 = plt.figure()\n",
    "plt.title('GPR2')\n",
    "plt.plot(x,y,'r')\n",
    "plt.plot(xd,yd,'r.')\n",
    "# plt.plot(x,posterior_mean,'g')\n",
    "plt.errorbar(xd,posterior_mean, yerr=error_bars2)\n",
    "plt.show()"
   ]
  },
  {
   "cell_type": "code",
   "execution_count": null,
   "id": "0829fc81",
   "metadata": {},
   "outputs": [],
   "source": []
  },
  {
   "cell_type": "code",
   "execution_count": null,
   "id": "ca9af5e4-185d-4358-8f2f-125dd3af80f1",
   "metadata": {},
   "outputs": [],
   "source": []
  }
 ],
 "metadata": {
  "kernelspec": {
   "display_name": "Python 3 (ipykernel)",
   "language": "python",
   "name": "python3"
  },
  "language_info": {
   "codemirror_mode": {
    "name": "ipython",
    "version": 3
   },
   "file_extension": ".py",
   "mimetype": "text/x-python",
   "name": "python",
   "nbconvert_exporter": "python",
   "pygments_lexer": "ipython3",
   "version": "3.9.12"
  }
 },
 "nbformat": 4,
 "nbformat_minor": 5
}
